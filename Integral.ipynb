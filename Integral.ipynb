{
 "cells": [
  {
   "cell_type": "markdown",
   "metadata": {
    "id": "e9LuNdc8gzPL"
   },
   "source": [
    "# Importo los paquetes"
   ]
  },
  {
   "cell_type": "code",
   "execution_count": 1,
   "metadata": {
    "id": "ohGKLen_gzQC"
   },
   "outputs": [],
   "source": [
    "from sympy import Symbol,integrate,sin"
   ]
  },
  {
   "cell_type": "markdown",
   "metadata": {},
   "source": [
    "# Ejercicio propuesto para resolver"
   ]
  },
  {
   "cell_type": "markdown",
   "metadata": {},
   "source": [
    "$$c_n = \\frac{2}{L}\\left[\\underbrace{\\int_0^{\\frac{L}{2}}\\frac{2c}{L}x\\sin{\\left(\\frac{n\\pi}{L}x\\right)dx}}_{f_1}+\\underbrace{\\int_{\\frac{L}{2}}^{L} \\frac{2c}{L}(L-x)\\sin{\\left(\\frac{n\\pi}{L}x\\right)}dx}_{f_2} \\right] $$"
   ]
  },
  {
   "cell_type": "markdown",
   "metadata": {
    "id": "XSGGrbbZgzQJ"
   },
   "source": [
    "# Defino los simbolos necesarios"
   ]
  },
  {
   "cell_type": "code",
   "execution_count": 2,
   "metadata": {
    "id": "iLreLw3cgzQL"
   },
   "outputs": [],
   "source": [
    "x=Symbol(\"x\")\n",
    "L=Symbol(\"L\",positive=True)\n",
    "c=Symbol(\"C\")\n",
    "n=Symbol(\"n\",integer=True,positive=True)\n",
    "pi=Symbol(\"\\u03c0\",positive=True)\n",
    "\n",
    "# Funciones para integrar\n",
    "\n",
    "f_1=((2*c*x)/L)*sin((n*pi*x)/L)\n",
    "f_2=((2*c)/L)*(L-x)*sin((n*pi*x)/L)"
   ]
  },
  {
   "cell_type": "markdown",
   "metadata": {
    "id": "OfU8eaTIgzQP"
   },
   "source": [
    "# Resuelvo las integrales"
   ]
  },
  {
   "cell_type": "code",
   "execution_count": 3,
   "metadata": {
    "id": "rUhCg_9cgzQR"
   },
   "outputs": [
    {
     "data": {
      "text/latex": [
       "$\\displaystyle \\frac{2 C \\left(- \\frac{L^{2} \\cos{\\left(\\frac{n π}{2} \\right)}}{2 n π} + \\frac{L^{2} \\sin{\\left(\\frac{n π}{2} \\right)}}{n^{2} π^{2}}\\right)}{L}$"
      ],
      "text/plain": [
       "2*C*(-L**2*cos(n*π/2)/(2*n*π) + L**2*sin(n*π/2)/(n**2*π**2))/L"
      ]
     },
     "execution_count": 3,
     "metadata": {},
     "output_type": "execute_result"
    }
   ],
   "source": [
    "integrate(f_1,(x,0,L/2))"
   ]
  },
  {
   "cell_type": "code",
   "execution_count": 4,
   "metadata": {
    "id": "RCbewHQggzQT"
   },
   "outputs": [
    {
     "data": {
      "text/latex": [
       "$\\displaystyle - \\frac{2 C L \\sin{\\left(n π \\right)}}{n^{2} π^{2}} - \\frac{2 C \\left(- \\frac{L^{2} \\cos{\\left(\\frac{n π}{2} \\right)}}{2 n π} - \\frac{L^{2} \\sin{\\left(\\frac{n π}{2} \\right)}}{n^{2} π^{2}}\\right)}{L}$"
      ],
      "text/plain": [
       "-2*C*L*sin(n*π)/(n**2*π**2) - 2*C*(-L**2*cos(n*π/2)/(2*n*π) - L**2*sin(n*π/2)/(n**2*π**2))/L"
      ]
     },
     "execution_count": 4,
     "metadata": {},
     "output_type": "execute_result"
    }
   ],
   "source": [
    "integrate(f_2,(x,L/2,L))"
   ]
  }
 ],
 "metadata": {
  "colab": {
   "collapsed_sections": [],
   "name": "FM.ipynb",
   "provenance": []
  },
  "kernelspec": {
   "display_name": "Python 3",
   "language": "python",
   "name": "python3"
  },
  "language_info": {
   "codemirror_mode": {
    "name": "ipython",
    "version": 3
   },
   "file_extension": ".py",
   "mimetype": "text/x-python",
   "name": "python",
   "nbconvert_exporter": "python",
   "pygments_lexer": "ipython3",
   "version": "3.8.5"
  }
 },
 "nbformat": 4,
 "nbformat_minor": 1
}
